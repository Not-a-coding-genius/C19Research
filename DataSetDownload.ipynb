{
 "cells": [
  {
   "cell_type": "code",
   "execution_count": 1,
   "metadata": {},
   "outputs": [
    {
     "name": "stderr",
     "output_type": "stream",
     "text": [
      "'kaggle' is not recognized as an internal or external command,\n",
      "operable program or batch file.\n"
     ]
    }
   ],
   "source": [
    "import os\n",
    "\n",
    "# Set Kaggle API key location (modify if needed)\n",
    "os.environ['KAGGLE_CONFIG_DIR'] = \"DM proj\"  # Point to your folder\n",
    "\n",
    "# Confirm API setup\n",
    "!kaggle datasets list\n"
   ]
  },
  {
   "cell_type": "code",
   "execution_count": 5,
   "metadata": {},
   "outputs": [
    {
     "name": "stdout",
     "output_type": "stream",
     "text": [
      "📥 Downloading divyapatel4/cord-df into DM proj/cord_data...\n",
      "Dataset URL: https://www.kaggle.com/datasets/divyapatel4/cord-df\n",
      "✅ Dataset downloaded & extracted!\n"
     ]
    }
   ],
   "source": [
    "from kaggle.api.kaggle_api_extended import KaggleApi\n",
    "\n",
    "# Initialize Kaggle API\n",
    "api = KaggleApi()\n",
    "api.authenticate()\n",
    "\n",
    "# Download & unzip dataset directly in your project folder\n",
    "dataset_name = \"divyapatel4/cord-df\"\n",
    "save_path = \"DM proj/cord_data\"\n",
    "\n",
    "print(f\"📥 Downloading {dataset_name} into {save_path}...\")\n",
    "api.dataset_download_files(dataset_name, path=save_path, unzip=True)\n",
    "\n",
    "print(\"✅ Dataset downloaded & extracted!\")\n"
   ]
  },
  {
   "cell_type": "code",
   "execution_count": 2,
   "metadata": {},
   "outputs": [
    {
     "name": "stdout",
     "output_type": "stream",
     "text": [
      "File Readable: True\n",
      "File Writable: True\n"
     ]
    }
   ],
   "source": [
    "import os\n",
    "\n",
    "file_path = r\"E:\\DM PROJ\\DM proj\\cord_data\\df_200k.csv\"\n",
    "\n",
    "# Check file permissions\n",
    "print(\"File Readable:\", os.access(file_path, os.R_OK))\n",
    "print(\"File Writable:\", os.access(file_path, os.W_OK))"
   ]
  },
  {
   "cell_type": "code",
   "execution_count": 9,
   "metadata": {},
   "outputs": [
    {
     "name": "stdout",
     "output_type": "stream",
     "text": [
      "✅ It's a file, good to go!\n"
     ]
    }
   ],
   "source": [
    "import os\n",
    "\n",
    "file_path = r\"E:\\DM PROJ\\DM proj\\cord_data\\df_200k.csv\\df_200k.csv\"\n",
    "\n",
    "# Check if it's a file or folder\n",
    "if os.path.isdir(file_path):\n",
    "    print(\"❌ It's a folder, not a file!\")\n",
    "elif os.path.isfile(file_path):\n",
    "    print(\"✅ It's a file, good to go!\")\n"
   ]
  },
  {
   "cell_type": "code",
   "execution_count": 12,
   "metadata": {},
   "outputs": [
    {
     "name": "stderr",
     "output_type": "stream",
     "text": [
      "C:\\Users\\Sammy\\AppData\\Local\\Temp\\ipykernel_10700\\3882447349.py:3: DtypeWarning: Columns (7) have mixed types. Specify dtype option on import or set low_memory=False.\n",
      "  df = pd.read_csv(file_path)\n"
     ]
    },
    {
     "name": "stdout",
     "output_type": "stream",
     "text": [
      "📊 Columns in the dataset:\n",
      "Index(['paper_id', 'doi', 'authors', 'title', 'journal', 'abstract_summary',\n",
      "       'country', 'word_count', 'language', 'publish_time', 'processed_text'],\n",
      "      dtype='object')\n"
     ]
    }
   ],
   "source": [
    "import pandas as pd\n",
    "\n",
    "df = pd.read_csv(file_path)\n",
    "print(\"📊 Columns in the dataset:\")\n",
    "print(df.columns)"
   ]
  }
 ],
 "metadata": {
  "kernelspec": {
   "display_name": ".venv",
   "language": "python",
   "name": "python3"
  },
  "language_info": {
   "codemirror_mode": {
    "name": "ipython",
    "version": 3
   },
   "file_extension": ".py",
   "mimetype": "text/x-python",
   "name": "python",
   "nbconvert_exporter": "python",
   "pygments_lexer": "ipython3",
   "version": "3.12.2"
  }
 },
 "nbformat": 4,
 "nbformat_minor": 2
}
